{
 "cells": [
  {
   "cell_type": "markdown",
   "id": "56d540ec-8ad5-48df-8d68-7a10526ed0ff",
   "metadata": {},
   "source": []
  },
  {
   "cell_type": "code",
   "execution_count": 1,
   "id": "432fd1a6-db7d-49cd-bb6c-ffa0ce5aa170",
   "metadata": {},
   "outputs": [],
   "source": [
    "import copy\n",
    "import itertools\n",
    "import numpy as np\n",
    "class SGraph_FP:\n",
    "    def __init__(self,p,c=1):\n",
    "        #exemple of imput p=[['Pa','Pb','Va','Vb'],['Pb','Vb','Pa','Va']]\n",
    "        #c is the capacity of each resouce. By default we assume the resources are mutex, but we can change this for each individual resource with a function\n",
    "        self.dim=len(p)\n",
    "        self.p=p\n",
    "        self.c=c\n",
    "        self.cap=dict()\n",
    "        for i in range(self.dim):\n",
    "            for j in range(len(p[i])):\n",
    "                self.cap[(self.p[i][j][1])]=c\n",
    "        global MemoryOfPath\n",
    "        global number_Of_Elements_of_Pn_removed\n",
    "        number_Of_Elements_of_Pn_removed=0\n",
    "        MemoryOfPath=[] #used in recursive functions that need to know what coordenates they went.\n",
    "            \n",
    "    #-- alg 1 start --#        \n",
    "    #-- change capacity of each resource before build graph with this function. By default every resource is a mutex --#    \n",
    "\n",
    "    def changecap(self,resource,capacity):\n",
    "        self.cap[resource]=capacity\n",
    "        print(self.cap)\n",
    "            \n",
    "    #-- change capacity of each resource before build graph with this function. By default every resource is a mutex --#\n",
    "\n",
    "\n",
    "\n",
    "    #-- constructs the vertices and locks the capacity of each resource. If you change the capacity this needs to be reruned --#\n",
    "    #-- After executing this use .returnvertices() to observer the output --#\n",
    "\n",
    "    def product(self,*args, repeat=1):\n",
    "    #modified from https://docs.python.org/3/library/itertools.html to have a input list instead of lists (i.e. original input l1,l2,l3.... now [l1,l2,l3....])\n",
    "        pools = [tuple(pool) for pool in args[0]] * repeat\n",
    "        result = [[]]\n",
    "        for pool in pools:\n",
    "            result = [x+[y] for x in result for y in pool]\n",
    "        for prod in result:\n",
    "            yield list(prod)\n",
    "    #this produces the product of the coordenates that are going to be the vertices of the graph\n",
    "\n",
    "\n",
    "    def infograph(self):\n",
    "        #We create a list such that we have the position of the vertice of a graph,the capacity of the resources and the resource that are being used\n",
    "        self.res=copy.deepcopy(self.cap)\n",
    "        self.coordinates=[]\n",
    "        for i in range(len(self.p)):\n",
    "            self.coordinates.append([k for k in range(len(self.p[i])+1)])\n",
    "        for i in self.res:\n",
    "            self.res[i]=0\n",
    "            #Reset the values of the dictionary to 0. This because in the initial state the resource consumption is 0\n",
    "\n",
    "        print(self.cap)\n",
    "        print(self.res)\n",
    "        #now we have enough to define the information need to generate the vertices of the graph\n",
    "\n",
    "\n",
    "    def createvertice(self):\n",
    "        self.vertices=[]\n",
    "        for v in self.product(self.coordinates):\n",
    "            self.vertices.append(v)\n",
    "        self.init=self.vertices[0]\n",
    "        self.end=self.vertices[-1]\n",
    "            \n",
    "\n",
    "    #-- After executing this use .returnvertices() to observer the output --#\n",
    "    #-- constructs the vertices and locks the capacity of each resource. If you change the capacity this needs to be reruned --#\n",
    "                \n",
    "    \n",
    "    #-- creates the full graph with python dictionaries use .returngraph() to observe the output after executing this function --#\n",
    "\n",
    "                \n",
    "    #now we have enough to creat the edges of the graph\n",
    "    def CreateGraph(self):\n",
    "        self.infograph()\n",
    "        self.createvertice()\n",
    "        print(self.vertices)\n",
    "        edge=[]\n",
    "        edges=[]\n",
    "        for ed in range(len(self.vertices)):\n",
    "            for i in range(len(self.p)):\n",
    "                edg=copy.deepcopy(self.vertices[ed])\n",
    "                resource=edg[i]\n",
    "                edg[i]=edg[i]+1\n",
    "                if edg[i]<len(self.p[i])+1:\n",
    "                    #for vertice (i1,i2,...,in), we create k<=n valid connections that for position i we have [(i1,i2,.,ii,..,in), '__',(i1,i2,.,ii+1,..,in)]\n",
    "                    edges.append([self.vertices[ed],self.p[i][resource],edg])\n",
    "                else:\n",
    "                    pass\n",
    "        self.edges=edges\n",
    "\n",
    "        newedges=dict()\n",
    "\n",
    "        #We can now compress the information such that we have a dictionary where dict[vertice]=[valid conections]\n",
    "        #with this we will be able to call the connections from the vertices, this will help later to prune the graph\n",
    "        for ed in range(len(self.vertices)):\n",
    "            newedges[f'{self.vertices[ed]}']=copy.deepcopy([])\n",
    "            for i in range(len(self.edges)):\n",
    "                tempedg=copy.deepcopy(self.edges[i])\n",
    "                tempedg1=[tempedg[1],tempedg[2]]\n",
    "                if self.vertices[ed]==self.edges[i][0]:\n",
    "                    #for i(<=k valid connections) vertices that are being pointed by a fixed vertice we get dict[vertice]=[connection_1,...,connection_i-1,[edge, vertice that is being pointed to]]\n",
    "                    newedges[f'{self.vertices[ed]}'].append(tempedg1)\n",
    "                else:\n",
    "                    pass\n",
    "        #we have enough to build the graph, because for each vertice we know were to point to\n",
    "\n",
    "\n",
    "        self.pointers=newedges\n",
    "        self.fullPreCubical()\n",
    "\n",
    "    #-- creates the full graph with python dictionaries use .returngraph() to observe the output after executing this function --#\n",
    "\n",
    "    #-- simple alg for only full graph precubical --#\n",
    "                    \n",
    "    def fullPreCubical(self):\n",
    "        dim=len(self.vertices[0])\n",
    "        self.SPC=[]\n",
    "        for n in range(dim-1):\n",
    "            Pn=dim-n\n",
    "            dictPn=dict()\n",
    "            for i in range(len(self.vertices)):\n",
    "                dictPn[f'{self.vertices[i]}']=[]\n",
    "                for j in range(len(self.vertices)):\n",
    "                    test1=[self.vertices[i][k]!=self.vertices[j][k] for k in range(dim)]\n",
    "                    test2=[self.vertices[j][k]-self.vertices[i][k]==1 for k in range(dim)]\n",
    "                    if sum(test1)==Pn and sum(test2)==Pn:\n",
    "                        dictPn[f'{self.vertices[i]}'].append(self.vertices[j])\n",
    "                    else:\n",
    "                        pass\n",
    "            self.SPC.append(dictPn)\n",
    "        return self.SPC\n",
    "        #to add P1 and P0 we can just fullPreCubical.append(self.pointers);fullPreCubical.append(self.vertices)\n",
    "        #we dont do this because we want to visualiza P2...Pn with this set\n",
    "\n",
    "\n",
    "    #-- alg 1 end --# \n",
    "    \n",
    "    #-- alg 2&3 start --# \n",
    "\n",
    "    def singleRemoval(self,init_vertice,ElementOfPn,n=1):\n",
    "        global number_Of_Elements_of_Pn_removed\n",
    "        if n<len(ElementOfPn):\n",
    "            nOfPn=-n+1\n",
    "            n_plus_1_Of_Pn=-n\n",
    "            for i in range(len(self.vertices)):\n",
    "                test1=[ self.vertices[i][j]<=init_vertice[j]<=ElementOfPn[j] for j in range(len(ElementOfPn))]\n",
    "                if sum(ElementOfPn)-sum(self.vertices[i])<n+2 and all(test1):\n",
    "                    original_size=len(self.SPC[n_plus_1_Of_Pn][f'{self.vertices[i]}'])\n",
    "                    for l in range(len(self.SPC[n_plus_1_Of_Pn][f'{self.vertices[i]}'])):\n",
    "                        l=l-(original_size-len(self.SPC[n_plus_1_Of_Pn][f'{self.vertices[i]}']))\n",
    "                        test2=[ ElementOfPn[j]<=self.SPC[n_plus_1_Of_Pn][f'{self.vertices[i]}'][l][j]  for j in range(len(ElementOfPn))]\n",
    "                        if all(test2):\n",
    "                            RemoveNext=copy.deepcopy(self.SPC[n_plus_1_Of_Pn][f'{self.vertices[i]}'][l])\n",
    "                            if ElementOfPn in self.SPC[nOfPn][f'{init_vertice}']:\n",
    "                                print(f'We are in {ElementOfPn} (P{n}) and remove {ElementOfPn} (P{n})')\n",
    "                                self.SPC[nOfPn][f'{init_vertice}'].remove(ElementOfPn)\n",
    "                                number_Of_Elements_of_Pn_removed=number_Of_Elements_of_Pn_removed+1\n",
    "                            else:\n",
    "                                pass\n",
    "                            if self.SPC[n_plus_1_Of_Pn][f'{self.vertices[i]}'][l] in self.SPC[n_plus_1_Of_Pn][f'{self.vertices[i]}']:\n",
    "                                print(f'we are in {init_vertice}:{ElementOfPn} (P{n}) and remove {self.vertices[i]}:{RemoveNext}  (P{n+1}) ')\n",
    "                                self.SPC[n_plus_1_Of_Pn][f'{self.vertices[i]}'].remove(self.SPC[n_plus_1_Of_Pn][f'{self.vertices[i]}'][l])\n",
    "                                number_Of_Elements_of_Pn_removed=number_Of_Elements_of_Pn_removed+1\n",
    "                                self.singleRemoval(self.vertices[i],RemoveNext,n+1)\n",
    "                            else:\n",
    "                                pass\n",
    "                        else:\n",
    "                            pass\n",
    "                else:\n",
    "                    pass\n",
    "            if ElementOfPn in self.SPC[nOfPn][f'{init_vertice}']:\n",
    "                print(f'we are in {ElementOfPn} (P{n}) and remove {ElementOfPn} (P{n})')\n",
    "                self.SPC[nOfPn][f'{init_vertice}'].remove(ElementOfPn)\n",
    "                number_Of_Elements_of_Pn_removed=number_Of_Elements_of_Pn_removed+1\n",
    "        else:\n",
    "            pass\n",
    "\n",
    "       \n",
    "    def ResourceUpdater(self,string):\n",
    "        #if P of resource x then +1 to resource utilization x\n",
    "        #if V of resource x then -1 to resource utilization x\n",
    "        if string[0]=='P':\n",
    "            return [string[1],1]\n",
    "        elif string[0]=='V':\n",
    "            return [string[1],-1]\n",
    "        else:\n",
    "            print('error')\n",
    "\n",
    "    def getdirection(self,vertice1,vertice2):\n",
    "        for i in range(len(vertice1)):\n",
    "            if vertice2[i]-vertice1[i]!=0:\n",
    "                return i\n",
    "            else:\n",
    "                pass\n",
    "\n",
    "\n",
    "    def Cap_vertices(self):\n",
    "        self.capproblems=[]\n",
    "        vertices=copy.deepcopy(self.vertices)\n",
    "        #Here we create a python dictonary that stores the capacity of each resource and we will be able to individually change it, i.e., cv_a^p(v)\n",
    "        self.Resourcetracker=dict()\n",
    "        self.Resourcetracker[f'{vertices[0]}']=copy.deepcopy(self.res)\n",
    "        for i in range(1,len(vertices)):\n",
    "            for k in range(1,len(vertices[i])+1):\n",
    "                if vertices[i][-k]-1>=0:\n",
    "                    verticeteste=copy.deepcopy(vertices[i])\n",
    "                    verticeteste[-k]=verticeteste[-k]-1\n",
    "                    self.Resourcetracker[f'{vertices[i]}']=copy.deepcopy(self.Resourcetracker[f'{verticeteste}'])\n",
    "                    for l in range(len(self.pointers[f'{verticeteste}'])):\n",
    "                        if self.pointers[f'{verticeteste}'][l][1]==vertices[i]:\n",
    "                            resource_info=self.ResourceUpdater(self.pointers[f'{verticeteste}'][l][0])\n",
    "                            self.Resourcetracker[f'{vertices[i]}'][resource_info[0]]=self.Resourcetracker[f'{vertices[i]}'][resource_info[0]]+resource_info[1]\n",
    "                            break\n",
    "                        else:\n",
    "                            pass\n",
    "                    break\n",
    "\n",
    "\n",
    "    def KeysToList(self,dictionary):\n",
    "        keys=dictionary.keys()\n",
    "        ListOfKeys=[list(keys)[i].strip('][').split(', ') for i in range(len(dictionary))]\n",
    "        for i in range(len(ListOfKeys)):\n",
    "            for j in range(len(ListOfKeys[0])):\n",
    "                ListOfKeys[i][j]=int(ListOfKeys[i][j])\n",
    "        return ListOfKeys\n",
    "      \n",
    "    def PrunedGraph_FP(self,halfpruned=False): #Warning do not run this twice!\n",
    "        self.Forbidden_vertices=[]\n",
    "        self.Cap_vertices()\n",
    "        resources=list(self.cap.keys())\n",
    "        for i in range(len(self.vertices)):\n",
    "            test_vertice_cap=[self.Resourcetracker[f'{self.vertices[i]}'][resources[c]]<=self.cap[resources[c]] for c in range(len(self.cap))] #v in \\check{V}\n",
    "            if all(test_vertice_cap):\n",
    "                    pass\n",
    "            else:\n",
    "                self.Forbidden_vertices.append(self.vertices[i])\n",
    "                edges_to_remove=[]\n",
    "                for e in range(len(self.pointers[f'{self.vertices[i]}'])):\n",
    "                    edges_to_remove.append(self.pointers[f'{self.vertices[i]}'][e][1])\n",
    "                del self.pointers[f'{self.vertices[i]}']\n",
    "                for e in range(len(edges_to_remove)):\n",
    "\n",
    "                    self.singleRemoval(self.vertices[i],edges_to_remove[e])\n",
    "\n",
    "        #This removes edges that point to removed vertices.\n",
    "        if not halfpruned:\n",
    "            Point_keys=list(self.pointers.keys())\n",
    "            Point_ver=self.KeysToList(self.pointers)\n",
    "            keys_removed=0\n",
    "            for i in range(len(Point_keys)):\n",
    "                edge_removed=0\n",
    "                i-keys_removed\n",
    "                for j in range(len(self.pointers[Point_keys[i]])):\n",
    "                    j=j-edge_removed\n",
    "                    if self.pointers[Point_keys[i]][j][1] in Point_ver:\n",
    "                        pass\n",
    "                    else:\n",
    "                        self.singleRemoval(Point_ver[i],self.pointers[Point_keys[i]][j][1])\n",
    "                        self.pointers[Point_keys[i]].remove(self.pointers[Point_keys[i]][j])\n",
    "                        keys_removed+=1\n",
    "                        edge_removed+=1\n",
    "        else:\n",
    "            pass\n",
    "        print(f'number of elements removed {number_Of_Elements_of_Pn_removed}')   \n",
    "        \n",
    "    #-- alg 2&3 end --#    \n",
    "        \n",
    "    #-- alg 4 start --#\n",
    "    def alg4(self,v,w,i,a): #d_i^a([v,w])\n",
    "        c1=0\n",
    "        c2=0\n",
    "        while c1!=i:\n",
    "            c2+=1\n",
    "            if w[c1+c2]!=v[c1+c2]:\n",
    "                c1+=1\n",
    "        if a==0:\n",
    "            w[c2]=v[c2]\n",
    "        else:\n",
    "            v[c2]=w[c2]\n",
    "        return [v,w]\n",
    "    #-- alg 4 end --# \n",
    "    \n",
    "    #-- alg 7 start --#   \n",
    "    \n",
    "    #-- W_delta_plus --# \n",
    "    def Delta_plus(self,dictionary):\n",
    "        listofvalues=[]\n",
    "        Values=list(dictionary.values())\n",
    "        for i in range(len(Values)):\n",
    "            for j in range(len(Values[i])):\n",
    "                if Values[i][j][1] not in listofvalues:\n",
    "                    listofvalues.append(Values[i][j][1])    \n",
    "        return listofvalues\n",
    "    \n",
    "    #-- W_delta_minus --#\n",
    "    def Delta_minus(self,dictionary):\n",
    "        keys=dictionary.keys()\n",
    "        ListOfKeys=[list(keys)[i].strip('][').split(', ') for i in range(len(dictionary))]\n",
    "        for i in range(len(ListOfKeys)):\n",
    "            for j in range(len(ListOfKeys[0])):\n",
    "                ListOfKeys[i][j]=int(ListOfKeys[i][j])\n",
    "        for x in ListOfKeys:\n",
    "            if len(self.pointers[f'{x}'])==0:\n",
    "                ListOfKeys.remove(x)\n",
    "        return ListOfKeys\n",
    "    \n",
    "    def alg7(self):\n",
    "        V_delta_plus=self.Delta_plus(self.pointers)\n",
    "        V_delta_minus=self.Delta_minus(self.pointers)\n",
    "        DV_check=self.KeysToList(self.pointers)\n",
    "        for x in V_delta_plus:\n",
    "            if x not in DV_check:\n",
    "                DV_check.append(x)\n",
    "        UV_check=copy.deepcopy(DV_check)\n",
    "\n",
    "        s_p=self.vertices[0]\n",
    "        t_p=self.vertices[-1]\n",
    "        \n",
    "        self.forbidenD=[]\n",
    "        self.forbidenU=[]\n",
    "        \n",
    "        D=[x for x in DV_check if (x!=t_p and x not in V_delta_minus)]\n",
    "        U=[x for x in UV_check if (x!=s_p and x not in V_delta_plus)]\n",
    "        \n",
    "        for d in D:\n",
    "            self.forbidenD.append(d)\n",
    "            \n",
    "        for u in U:\n",
    "            self.forbidenU.append(u) \n",
    "\n",
    "        DG=copy.deepcopy(self.pointers)\n",
    "        UG=copy.deepcopy(self.pointers)\n",
    "\n",
    "        while len(D)!=0:\n",
    "            for vertices in D:\n",
    "                del DG[f'{vertices}']\n",
    "            V_delta_minus=self.Delta_minus(DG)\n",
    "            DV_check=self.KeysToList(DG)\n",
    "            D=[x for x in DV_check if (x!=t_p and x not in V_delta_minus)]\n",
    "            for d in D:\n",
    "                self.forbidenD.append(d)\n",
    "\n",
    "        while len(U)!=0:\n",
    "            for vertices in U:\n",
    "                del UG[f'{vertices}']\n",
    "            V_delta_plus=self.Delta_plus(UG)\n",
    "            UV_check=self.KeysToList(UG)\n",
    "            U=[x for x in UV_check if (x!=s_p and x not in V_delta_plus)]\n",
    "            for u in U:\n",
    "                self.forbidenU.append(u) \n",
    "        self.DG=DG\n",
    "        self.UG=UG\n",
    "        for v in self.Forbidden_vertices:\n",
    "            self.forbidenD.append(v)\n",
    "        for v in self.Forbidden_vertices:\n",
    "            self.forbidenU.append(v)\n",
    "            \n",
    "        return [DG,UG]\n",
    "\n",
    "    #-- alg 7 end --#  \n",
    "\n",
    "\n",
    "    def returnvertices(self):\n",
    "        return self.vertices\n",
    "\n",
    "    def returnFvertices(self):\n",
    "        return self.Forbidden_vertices\n",
    "    \n",
    "    def returnDFvertices(self):\n",
    "        return self.forbidenD\n",
    "    \n",
    "    def returnUFvertices(self):\n",
    "        return self.forbidenU\n",
    "    \n",
    "    def returnedges(self):\n",
    "        return self.edges\n",
    "\n",
    "    def returngraph(self):\n",
    "        return self.pointers\n",
    "\n",
    "    def returncap(self):\n",
    "        return self.cap\n",
    "\n",
    "    def returnDG(self):\n",
    "        return self.DG\n",
    "\n",
    "    def returnDG(self):\n",
    "        return self.UG\n",
    "\n",
    "    def returnfullPreCubical(self):\n",
    "        return self.SPC       \n",
    "\n",
    "    def GE_info(self,halfpruned=False):\n",
    "        self.CreateGraph()\n",
    "        self.fullPreCubical()\n",
    "        self.PrunedGraph_FP(halfpruned)\n",
    "        #appends P0 and P1 to P\n",
    "        self.SPC.append(self.pointers)\n",
    "        self.SPC.append(self.vertices)\n",
    "        return self.SPC\n",
    "        "
   ]
  },
  {
   "cell_type": "code",
   "execution_count": 2,
   "id": "b26f1c72-87e2-43fc-90de-32d3742888eb",
   "metadata": {},
   "outputs": [],
   "source": [
    "G=SGraph_FP([['Pa','Pb','Vb','Va'],['Pb','Pa','Va','Vb']])"
   ]
  },
  {
   "cell_type": "markdown",
   "id": "caf5882c-8984-47fa-a96d-8225466f6d38",
   "metadata": {},
   "source": [
    "We start by showing how resource function inside this class with some examples.\n",
    "By default the class supposes that every resource has capacity 1, i.e., the resource is a mutex, to change this we have a method \"changecap()\" \n",
    "where we can define the capacity for each resource. This must be done before creating the graph."
   ]
  },
  {
   "cell_type": "code",
   "execution_count": 3,
   "id": "c008e15d-2665-4780-a6db-6a6a2726d0bf",
   "metadata": {},
   "outputs": [
    {
     "name": "stdout",
     "output_type": "stream",
     "text": [
      "As stated before this {'a': 1, 'b': 1} is the default capacities for the program  p=[[\"Pa\",\"Pb\",\"Vb\",\"Va\"],[\"Pb\",\"Pa\",\"Va\",\"Vb\"]]\n",
      "We can easely change the resources with the .changecap() and we get the updated dictonary\n",
      "{'a': 2, 'b': 1}\n",
      "{'a': 1, 'b': 1}\n"
     ]
    }
   ],
   "source": [
    "print(f'As stated before this {G.returncap()} is the default capacities for the program  p=[[\"Pa\",\"Pb\",\"Vb\",\"Va\"],[\"Pb\",\"Pa\",\"Va\",\"Vb\"]]')\n",
    "print('We can easely change the resources with the .changecap() and we get the updated dictonary')\n",
    "G.changecap('a',2)\n",
    "G.changecap('a',1)"
   ]
  },
  {
   "cell_type": "markdown",
   "id": "ced56f2f-ac4c-48b2-a8fa-73ff821f60c8",
   "metadata": {},
   "source": [
    "To create the coordinates of the graph, i.e. for this example $(0,0), (1,0),\\dots, (4,4)$ we need a few steps.\n",
    "We start by sourcing from https://docs.python.org/3/library/itertools.html the function \"product\" that outputs the \"cartesian product\" with a modification, that changes the input function to take a lists of integers inside a list.\n",
    "We convert **['Pa','Pb','Va','Vb'],['Pb','Vb','Pa','Va']** to **[[0, 1, 2, 3, 4],[0, 1, 2, 3, 4]]** input to \"product\" and we get $V$ of $G_p$."
   ]
  },
  {
   "cell_type": "code",
   "execution_count": 4,
   "id": "ec206ea3-8d25-48a7-802b-c8eda28fa8a6",
   "metadata": {},
   "outputs": [
    {
     "name": "stdout",
     "output_type": "stream",
     "text": [
      "[[0, 0], [0, 1], [0, 2], [0, 3], [0, 4], [1, 0], [1, 1], [1, 2], [1, 3], [1, 4], [2, 0], [2, 1], [2, 2], [2, 3], [2, 4], [3, 0], [3, 1], [3, 2], [3, 3], [3, 4], [4, 0], [4, 1], [4, 2], [4, 3], [4, 4]]\n"
     ]
    }
   ],
   "source": [
    "example_list=[] \n",
    "for v in G.product([[0, 1, 2, 3, 4],[0, 1, 2, 3, 4]]):\n",
    "    example_list.append(v)\n",
    "print(example_list)"
   ]
  },
  {
   "cell_type": "markdown",
   "id": "02de19e7-47c6-47aa-938e-1e41080b977b",
   "metadata": {},
   "source": [
    "For the convertion we create a simple loop, that gives vertices of each sequence"
   ]
  },
  {
   "cell_type": "code",
   "execution_count": 5,
   "id": "469a7441-6eb7-4ec0-9785-3a708c7e81c9",
   "metadata": {},
   "outputs": [
    {
     "name": "stdout",
     "output_type": "stream",
     "text": [
      "[0, 1, 2, 3, 4]\n",
      "[0, 1, 2, 3, 4]\n"
     ]
    }
   ],
   "source": [
    "for i in range(len([['Pa','Pb','Vb','Va'],['Pb','Pa','Va','Vb']])):\n",
    "                print([k for k in range(len([['Pa','Pb','Vb','Va'],['Pb','Pa','Va','Vb']][i])+1)])\n",
    "        \n",
    "coordinates=[]\n",
    "for i in range(len([['Pa','Pb','Vb','Va'],['Pb','Pa','Va','Vb']])):\n",
    "    coordinates.append([k for k in range(len([['Pa','Pb','Vb','Va'],['Pb','Pa','Va','Vb']][i])+1)])"
   ]
  },
  {
   "cell_type": "markdown",
   "id": "877850a6-6a86-458f-8cac-044b1efca95b",
   "metadata": {},
   "source": [
    "The graph is going to be a dictonary where each key is a the initial vertice of an edge and the results are the possible final vertices and the correponding labels.\n",
    "\n",
    "for example a given program **['Pa','Pb','Va','Vb'],['Pb','Vb','Pa','Va']**\n",
    "the initial vertice **[0,0]** has the final vertices **[1,0]** and **[0,1]** with the labels **'Pa'** and **'Pb'**, respectively.\n",
    "\n",
    "The algorithm can be sum up with a simple example, \n",
    "given a vertice **[i,j]** of **['Pa','Pb','Va','Vb'],['Pb','Vb','Pa','Va']**\n",
    "\n",
    "if $i+1\\leq4$ then\n",
    "there exists the connection between **[i,j]** and **[i+1,j]** and the label is the $i$th (in python indexing) element of  **['Pa','Pb','Va','Vb']**\n",
    "if $j+1\\leq4$ then \n",
    "there exists the connection between **[i,j]** and **[i,j+1]** and the label is the $j$th element of  **['Pb','Vb','Pa','Va']** \n",
    "\n",
    "and we continue for the number of dimention, in this case is only 2.\n",
    "\n",
    "example **[2,1]**\n",
    "\n",
    "$2+1\\leq4$ therefor, \n",
    "\n",
    "here exists the connection between **[2,1]** and **[3,1]** and the label is $'Va'$\n",
    "\n",
    "$1+1\\leq4$ therefor, \n",
    "\n",
    "here exists the connection between **[2,1]** and **[2,2]** and the label is $'Vb'$"
   ]
  },
  {
   "cell_type": "code",
   "execution_count": 6,
   "id": "6852d4c6-f098-4aaf-8887-dada246a0efb",
   "metadata": {},
   "outputs": [],
   "source": [
    "%%capture\n",
    "G.CreateGraph()"
   ]
  },
  {
   "cell_type": "code",
   "execution_count": 7,
   "id": "7b3a981d-95d9-4535-8cad-88f3665364e3",
   "metadata": {},
   "outputs": [
    {
     "data": {
      "text/plain": [
       "{'[0, 0]': [['Pa', [1, 0]], ['Pb', [0, 1]]],\n",
       " '[0, 1]': [['Pa', [1, 1]], ['Pa', [0, 2]]],\n",
       " '[0, 2]': [['Pa', [1, 2]], ['Va', [0, 3]]],\n",
       " '[0, 3]': [['Pa', [1, 3]], ['Vb', [0, 4]]],\n",
       " '[0, 4]': [['Pa', [1, 4]]],\n",
       " '[1, 0]': [['Pb', [2, 0]], ['Pb', [1, 1]]],\n",
       " '[1, 1]': [['Pb', [2, 1]], ['Pa', [1, 2]]],\n",
       " '[1, 2]': [['Pb', [2, 2]], ['Va', [1, 3]]],\n",
       " '[1, 3]': [['Pb', [2, 3]], ['Vb', [1, 4]]],\n",
       " '[1, 4]': [['Pb', [2, 4]]],\n",
       " '[2, 0]': [['Vb', [3, 0]], ['Pb', [2, 1]]],\n",
       " '[2, 1]': [['Vb', [3, 1]], ['Pa', [2, 2]]],\n",
       " '[2, 2]': [['Vb', [3, 2]], ['Va', [2, 3]]],\n",
       " '[2, 3]': [['Vb', [3, 3]], ['Vb', [2, 4]]],\n",
       " '[2, 4]': [['Vb', [3, 4]]],\n",
       " '[3, 0]': [['Va', [4, 0]], ['Pb', [3, 1]]],\n",
       " '[3, 1]': [['Va', [4, 1]], ['Pa', [3, 2]]],\n",
       " '[3, 2]': [['Va', [4, 2]], ['Va', [3, 3]]],\n",
       " '[3, 3]': [['Va', [4, 3]], ['Vb', [3, 4]]],\n",
       " '[3, 4]': [['Va', [4, 4]]],\n",
       " '[4, 0]': [['Pb', [4, 1]]],\n",
       " '[4, 1]': [['Pa', [4, 2]]],\n",
       " '[4, 2]': [['Va', [4, 3]]],\n",
       " '[4, 3]': [['Vb', [4, 4]]],\n",
       " '[4, 4]': []}"
      ]
     },
     "execution_count": 7,
     "metadata": {},
     "output_type": "execute_result"
    }
   ],
   "source": [
    "G.returngraph()"
   ]
  },
  {
   "cell_type": "markdown",
   "id": "228e980b-58fc-43e1-a2ca-caaab016d809",
   "metadata": {},
   "source": [
    "At the end of \"CreateGraph()\" we invoke \"fullPreCubical()\" a method that creates the \"fullprecubical()\" set using $T^n$ and $H^n$. Technically it is the set with $\\square(G_p)_2,\\dots,\\square(G_p)_n$, but as we know the information of $\\square(G_p)_0$ and $\\square(G_p)_1$ exists already in the graph so to conserve space we don't include them in this set. We can read the key of the dictionary as the initial vertice and the values as the final vertice of a precubical block. For example if we have $'[1,1]':[[2,2]]$ this corresponds to $[\\![ 1,2 ]\\!] \\otimes [\\![ 1,2 ]\\!]$."
   ]
  },
  {
   "cell_type": "code",
   "execution_count": 8,
   "id": "75b0998d-64f9-49e2-9921-be19a239f8fd",
   "metadata": {},
   "outputs": [
    {
     "data": {
      "text/plain": [
       "[{'[0, 0]': [[1, 1]],\n",
       "  '[0, 1]': [[1, 2]],\n",
       "  '[0, 2]': [[1, 3]],\n",
       "  '[0, 3]': [[1, 4]],\n",
       "  '[0, 4]': [],\n",
       "  '[1, 0]': [[2, 1]],\n",
       "  '[1, 1]': [[2, 2]],\n",
       "  '[1, 2]': [[2, 3]],\n",
       "  '[1, 3]': [[2, 4]],\n",
       "  '[1, 4]': [],\n",
       "  '[2, 0]': [[3, 1]],\n",
       "  '[2, 1]': [[3, 2]],\n",
       "  '[2, 2]': [[3, 3]],\n",
       "  '[2, 3]': [[3, 4]],\n",
       "  '[2, 4]': [],\n",
       "  '[3, 0]': [[4, 1]],\n",
       "  '[3, 1]': [[4, 2]],\n",
       "  '[3, 2]': [[4, 3]],\n",
       "  '[3, 3]': [[4, 4]],\n",
       "  '[3, 4]': [],\n",
       "  '[4, 0]': [],\n",
       "  '[4, 1]': [],\n",
       "  '[4, 2]': [],\n",
       "  '[4, 3]': [],\n",
       "  '[4, 4]': []}]"
      ]
     },
     "execution_count": 8,
     "metadata": {},
     "output_type": "execute_result"
    }
   ],
   "source": [
    "G.returnfullPreCubical()"
   ]
  },
  {
   "cell_type": "markdown",
   "id": "57ce69eb-8e76-41b7-9de2-26cdc1e2ccaf",
   "metadata": {},
   "source": [
    "At this point we $G_p$ and $\\square(G_p)$."
   ]
  },
  {
   "cell_type": "markdown",
   "id": "b83ec3ac-7a34-4131-8517-a6702670c4d1",
   "metadata": {},
   "source": [
    "The method \"Cap_vertices()\" assigns the resources to each vertice. The method \"PrunedGraph_FP()\" will cover Algorithm 2 and 3. This is the only method that diverges significatively from theoretical verson. First, we don't have $\\bar{V}$, we loop over all vertices and test if $v \\in \\bar{V}$ during the execution and create the list that corresponds to $\\bar{V}$. Additionally, this method has a structure that can be applied to more general precubical sets, i.e., the algorithm checks if a element of $[v_1]:[w_1]=x\\in P_i$ is a face of $[v_2]:[w_2]=y \\in P_{i+1}$ $(x=d^\\alpha_i(y))$, in the specific case of this precubical set the check is equivalent to $v_2\\leq v_1\\leq w_1 \\leq w_2$. "
   ]
  },
  {
   "cell_type": "code",
   "execution_count": 9,
   "id": "e8ead07f-23c9-4ff0-8d09-7c6ab0b09bfe",
   "metadata": {},
   "outputs": [
    {
     "name": "stdout",
     "output_type": "stream",
     "text": [
      "we are in [1, 2]:[2, 2] (P1) and remove [1, 1]:[2, 2]  (P2) \n",
      "we are in [1, 2]:[2, 2] (P1) and remove [1, 2]:[2, 3]  (P2) \n",
      "we are in [1, 2]:[1, 3] (P1) and remove [0, 2]:[1, 3]  (P2) \n",
      "we are in [2, 1]:[3, 1] (P1) and remove [2, 0]:[3, 1]  (P2) \n",
      "we are in [2, 1]:[3, 1] (P1) and remove [2, 1]:[3, 2]  (P2) \n",
      "we are in [2, 2]:[3, 2] (P1) and remove [2, 2]:[3, 3]  (P2) \n",
      "we are in [2, 3]:[3, 3] (P1) and remove [2, 3]:[3, 4]  (P2) \n",
      "we are in [2, 3]:[2, 4] (P1) and remove [1, 3]:[2, 4]  (P2) \n",
      "we are in [3, 2]:[4, 2] (P1) and remove [3, 1]:[4, 2]  (P2) \n",
      "we are in [3, 2]:[4, 2] (P1) and remove [3, 2]:[4, 3]  (P2) \n",
      "we are in [0, 2]:[1, 2] (P1) and remove [0, 1]:[1, 2]  (P2) \n",
      "we are in [1, 1]:[2, 1] (P1) and remove [1, 0]:[2, 1]  (P2) \n",
      "number of elements removed 12\n"
     ]
    },
    {
     "data": {
      "text/plain": [
       "[{'[0, 0]': [[1, 1]],\n",
       "  '[0, 1]': [],\n",
       "  '[0, 2]': [],\n",
       "  '[0, 3]': [[1, 4]],\n",
       "  '[0, 4]': [],\n",
       "  '[1, 0]': [],\n",
       "  '[1, 1]': [],\n",
       "  '[1, 2]': [],\n",
       "  '[1, 3]': [],\n",
       "  '[1, 4]': [],\n",
       "  '[2, 0]': [],\n",
       "  '[2, 1]': [],\n",
       "  '[2, 2]': [],\n",
       "  '[2, 3]': [],\n",
       "  '[2, 4]': [],\n",
       "  '[3, 0]': [[4, 1]],\n",
       "  '[3, 1]': [],\n",
       "  '[3, 2]': [],\n",
       "  '[3, 3]': [[4, 4]],\n",
       "  '[3, 4]': [],\n",
       "  '[4, 0]': [],\n",
       "  '[4, 1]': [],\n",
       "  '[4, 2]': [],\n",
       "  '[4, 3]': [],\n",
       "  '[4, 4]': []}]"
      ]
     },
     "execution_count": 9,
     "metadata": {},
     "output_type": "execute_result"
    }
   ],
   "source": [
    "G.PrunedGraph_FP()\n",
    "G.returnfullPreCubical()"
   ]
  },
  {
   "cell_type": "code",
   "execution_count": 10,
   "id": "bb2a7e7e-3fcb-4a3e-a9b5-82704ada5b2c",
   "metadata": {},
   "outputs": [
    {
     "data": {
      "text/plain": [
       "{'[0, 0]': [['Pa', [1, 0]], ['Pb', [0, 1]]],\n",
       " '[0, 1]': [['Pa', [1, 1]], ['Pa', [0, 2]]],\n",
       " '[0, 2]': [['Va', [0, 3]]],\n",
       " '[0, 3]': [['Pa', [1, 3]], ['Vb', [0, 4]]],\n",
       " '[0, 4]': [['Pa', [1, 4]]],\n",
       " '[1, 0]': [['Pb', [2, 0]], ['Pb', [1, 1]]],\n",
       " '[1, 1]': [],\n",
       " '[1, 3]': [['Vb', [1, 4]]],\n",
       " '[1, 4]': [['Pb', [2, 4]]],\n",
       " '[2, 0]': [['Vb', [3, 0]]],\n",
       " '[2, 4]': [['Vb', [3, 4]]],\n",
       " '[3, 0]': [['Va', [4, 0]], ['Pb', [3, 1]]],\n",
       " '[3, 1]': [['Va', [4, 1]]],\n",
       " '[3, 3]': [['Va', [4, 3]], ['Vb', [3, 4]]],\n",
       " '[3, 4]': [['Va', [4, 4]]],\n",
       " '[4, 0]': [['Pb', [4, 1]]],\n",
       " '[4, 1]': [['Pa', [4, 2]]],\n",
       " '[4, 2]': [['Va', [4, 3]]],\n",
       " '[4, 3]': [['Vb', [4, 4]]],\n",
       " '[4, 4]': []}"
      ]
     },
     "execution_count": 10,
     "metadata": {},
     "output_type": "execute_result"
    }
   ],
   "source": [
    "G.returngraph()"
   ]
  },
  {
   "cell_type": "markdown",
   "id": "b954174e-bdd6-4ad5-b57d-28ae448230bb",
   "metadata": {},
   "source": [
    "The algorithm 4 and 7 are almost identical to the theoretical version, so we just show some examples."
   ]
  },
  {
   "cell_type": "code",
   "execution_count": 11,
   "id": "81250f3b-7f5f-4cfb-949b-e0aff9cb973f",
   "metadata": {},
   "outputs": [
    {
     "data": {
      "text/plain": [
       "[[2, 1, 1], [2, 1, 2]]"
      ]
     },
     "execution_count": 11,
     "metadata": {},
     "output_type": "execute_result"
    }
   ],
   "source": [
    "G.alg4([1,1,1],[2,1,2],0,1) #alg4(v,w,i,a), d_j^a([v,w]) with python indexing, i.e., j=i-1 with i from definition d_i^a."
   ]
  },
  {
   "cell_type": "code",
   "execution_count": 12,
   "id": "a957ab6b-b2d4-4418-b245-5c0afb7d72d4",
   "metadata": {},
   "outputs": [
    {
     "data": {
      "text/plain": [
       "[{'[0, 0]': [['Pa', [1, 0]], ['Pb', [0, 1]]],\n",
       "  '[0, 1]': [['Pa', [1, 1]], ['Pa', [0, 2]]],\n",
       "  '[0, 2]': [['Va', [0, 3]]],\n",
       "  '[0, 3]': [['Pa', [1, 3]], ['Vb', [0, 4]]],\n",
       "  '[0, 4]': [['Pa', [1, 4]]],\n",
       "  '[1, 0]': [['Pb', [2, 0]], ['Pb', [1, 1]]],\n",
       "  '[1, 3]': [['Vb', [1, 4]]],\n",
       "  '[1, 4]': [['Pb', [2, 4]]],\n",
       "  '[2, 0]': [['Vb', [3, 0]]],\n",
       "  '[2, 4]': [['Vb', [3, 4]]],\n",
       "  '[3, 0]': [['Va', [4, 0]], ['Pb', [3, 1]]],\n",
       "  '[3, 1]': [['Va', [4, 1]]],\n",
       "  '[3, 3]': [['Va', [4, 3]], ['Vb', [3, 4]]],\n",
       "  '[3, 4]': [['Va', [4, 4]]],\n",
       "  '[4, 0]': [['Pb', [4, 1]]],\n",
       "  '[4, 1]': [['Pa', [4, 2]]],\n",
       "  '[4, 2]': [['Va', [4, 3]]],\n",
       "  '[4, 3]': [['Vb', [4, 4]]],\n",
       "  '[4, 4]': []},\n",
       " {'[0, 0]': [['Pa', [1, 0]], ['Pb', [0, 1]]],\n",
       "  '[0, 1]': [['Pa', [1, 1]], ['Pa', [0, 2]]],\n",
       "  '[0, 2]': [['Va', [0, 3]]],\n",
       "  '[0, 3]': [['Pa', [1, 3]], ['Vb', [0, 4]]],\n",
       "  '[0, 4]': [['Pa', [1, 4]]],\n",
       "  '[1, 0]': [['Pb', [2, 0]], ['Pb', [1, 1]]],\n",
       "  '[1, 1]': [],\n",
       "  '[1, 3]': [['Vb', [1, 4]]],\n",
       "  '[1, 4]': [['Pb', [2, 4]]],\n",
       "  '[2, 0]': [['Vb', [3, 0]]],\n",
       "  '[2, 4]': [['Vb', [3, 4]]],\n",
       "  '[3, 0]': [['Va', [4, 0]], ['Pb', [3, 1]]],\n",
       "  '[3, 1]': [['Va', [4, 1]]],\n",
       "  '[3, 4]': [['Va', [4, 4]]],\n",
       "  '[4, 0]': [['Pb', [4, 1]]],\n",
       "  '[4, 1]': [['Pa', [4, 2]]],\n",
       "  '[4, 2]': [['Va', [4, 3]]],\n",
       "  '[4, 3]': [['Vb', [4, 4]]],\n",
       "  '[4, 4]': []}]"
      ]
     },
     "execution_count": 12,
     "metadata": {},
     "output_type": "execute_result"
    }
   ],
   "source": [
    "G.alg7()"
   ]
  },
  {
   "cell_type": "code",
   "execution_count": 13,
   "id": "648ea500-a323-4a98-b6e6-7c47b5ab4e66",
   "metadata": {},
   "outputs": [],
   "source": [
    "import copy\n",
    "import itertools\n",
    "class GeometricRealization:\n",
    "    def __init__(self,PrecubicalSet):\n",
    "        #exemple of imput P=[P0,P1,...,Pn]\n",
    "        self.dim=len(PrecubicalSet)\n",
    "        self.vertices=PrecubicalSet[-1]\n",
    "        self.pointers=PrecubicalSet[-2]\n",
    "        PrecubicalSet.remove(self.vertices)\n",
    "        PrecubicalSet.remove(self.pointers)\n",
    "        self.PrecubicalSet=PrecubicalSet\n",
    "        #eliminates vertices in the precubical set that are not relevant for P2,...,Pn\n",
    "        for n in range(len(self.PrecubicalSet)):\n",
    "            Pn=self.PrecubicalSet[-1-n]\n",
    "            for i in range(len(self.vertices)):\n",
    "                if len(Pn[f'{self.vertices[i]}'])==0:\n",
    "                    del Pn[f'{self.vertices[i]}']\n",
    "                else: \n",
    "                    pass\n",
    "        for i in range(len(self.vertices)):\n",
    "            try:\n",
    "                for j in range(len(self.pointers[f'{self.vertices[i]}'])):\n",
    "                    self.pointers[f'{self.vertices[i]}'][j]=self.pointers[f'{self.vertices[i]}'][j][1]\n",
    "            except:\n",
    "                pass\n",
    "\n",
    "        print('')\n",
    "        print(self.pointers)\n",
    "        print('')\n",
    "        self.PrecubicalSet.append(self.pointers)\n",
    "        self.SetInR=[]\n",
    "        self.processed=copy.deepcopy(self.PrecubicalSet)\n",
    "        self.processed.reverse()\n",
    "\n",
    "    def KeysToList(self,dictionary):\n",
    "        keys=dictionary.keys()\n",
    "        ListOfKeys=[list(keys)[i].strip('][').split(', ') for i in range(len(dictionary))]\n",
    "        for i in range(len(ListOfKeys)):\n",
    "            for j in range(len(ListOfKeys[0])):\n",
    "                ListOfKeys[i][j]=int(ListOfKeys[i][j])\n",
    "        return ListOfKeys\n",
    "\n",
    "\n",
    "    def axis(self):\n",
    "        Min=dict()\n",
    "        Max=dict()\n",
    "        for i in range(len(self.vertices[0])):\n",
    "            Min[f'x{i}']=self.vertices[0][i]\n",
    "            Max[f'x{i}']=self.vertices[-1][i]\n",
    "    \n",
    "    #-- alg 5 start --# \n",
    "\n",
    "\n",
    "    def createIntervals(self,IV,n,ele):\n",
    "        if n==0:\n",
    "            for j in range(len(self.PrecubicalSet[n][f'{IV}'])):\n",
    "                EP=[[IV[k],self.PrecubicalSet[n][f'{IV}'][j][k]] for k in range(len(IV))]\n",
    "                ele.append(EP)\n",
    "            return ele\n",
    "        else:\n",
    "            for j in range(len(self.PrecubicalSet[n][f'{IV}'])):\n",
    "                EP=[[IV[k],self.PrecubicalSet[n][f'{IV}'][j][k]] for k in range(len(IV))]\n",
    "                a=True\n",
    "                while a:\n",
    "                    print(self.SetInR[n-1])\n",
    "                    for i in range(len(self.SetInR[n-1])):\n",
    "                        test=[self.inInterval(EP[k],self.SetInR[n-1][i][k]) for k in range(len(EP))]\n",
    "                        if all(test):\n",
    "                            #ele de Pn in Pn+1\n",
    "                            a=False\n",
    "                            continue\n",
    "                        else:\n",
    "                            pass\n",
    "                    if a==False:\n",
    "                        pass\n",
    "                    else:\n",
    "                        ele.append(EP)\n",
    "                        a=False\n",
    "\n",
    "\n",
    "        return ele\n",
    "\n",
    "    def inInterval(self,interval1,interval2):\n",
    "        if interval2[0]<=interval1[0]<=interval1[1]<=interval2[1]:\n",
    "            return True\n",
    "        else:\n",
    "            return False\n",
    "\n",
    "\n",
    "    def inInterval(self,interval1,interval2):\n",
    "        if interval2[0]<=interval1[0]<=interval1[1]<=interval2[1]:\n",
    "            return True\n",
    "        else:\n",
    "            return False\n",
    "\n",
    "    def geometricrealization(self):\n",
    "        #we start by compressing Pn to be equivalent to the union of intervals in a product topology\n",
    "        #its easier to do it in the precubical set then with atual intervals in python\n",
    "        for n in range(len(self.PrecubicalSet)):\n",
    "            Pnkeys=list(self.PrecubicalSet[n].keys())\n",
    "            Pnkeyslist=self.KeysToList(self.PrecubicalSet[n])\n",
    "            elePn=[]\n",
    "            for i in range(len(Pnkeys)):\n",
    "                elePn=self.createIntervals(Pnkeyslist[i],n,elePn)\n",
    "            self.SetInR.append(elePn)\n",
    "\n",
    "        for l in range(len(self.SetInR)):\n",
    "            if self.SetInR[l] is None or len(self.SetInR[l])==0:\n",
    "                self.SetInR[l]=f'P{l} Merged with another Pi'\n",
    "            else: \n",
    "                pass\n",
    "\n",
    "\n",
    "        return self.SetInR\n",
    "    #-- alg 5 end --# \n",
    "    \n",
    "    \n",
    "    #-- alg 6 start --#  \n",
    "    def VerinInter(self,V,I):\n",
    "        Lb=I[0]\n",
    "        Ub=I[1]\n",
    "        n=len(Lb)\n",
    "        for v in V:\n",
    "            if all([Lb[j]<=v[j]<=Ub[j] for j in range(n)]):\n",
    "                return True\n",
    "            else:\n",
    "                pass\n",
    "        return False\n",
    "\n",
    "    def Inbounds(self,I_bounded):\n",
    "        Lb=I_bounded[0]\n",
    "        Ub=I_bounded[1]\n",
    "        n=len(Lb)\n",
    "        if all([Lb[j]<=Ub[j] for j in range(n)]):\n",
    "            return True\n",
    "        else:\n",
    "            pass\n",
    "        return False\n",
    "\n",
    "    def alg6(self,V): #li=[len(p_1),...,len(p_n)], V vertices we want to remove\n",
    "        li=self.vertices[-1]\n",
    "        n=len(li)\n",
    "        G_1=[0 for i in range(n)]\n",
    "        G_2=[li[i] for i in range(n)]\n",
    "        set_Gamma=[[G_1,G_2]]\n",
    "        setClean_Gamma=[]\n",
    "        while len(V)!=0: \n",
    "            v=V[0]\n",
    "            r=0\n",
    "            for i in range(len(set_Gamma)):\n",
    "                x=copy.deepcopy(set_Gamma[i-r])\n",
    "                Lb=x[0]\n",
    "                Ub=x[1]\n",
    "                if all([Lb[j]<=v[j]<=Ub[j] for j in range(n)]):\n",
    "                    set_Gamma.remove(x)\n",
    "                    r+=1\n",
    "                    for k in range(n):\n",
    "                        splits=[]\n",
    "                        split_1=copy.deepcopy(x)\n",
    "                        split_2=copy.deepcopy(x)\n",
    "                        split_1[1][k]=v[k]-1\n",
    "                        split_2[0][k]=v[k]+1\n",
    "                        if self.Inbounds(split_1):\n",
    "                            splits.append(split_1)\n",
    "                        if self.Inbounds(split_2):\n",
    "                            splits.append(split_2)\n",
    "                        for split in splits:\n",
    "                            if self.VerinInter(V,split):\n",
    "                                set_Gamma.append(split)\n",
    "                            else:\n",
    "                                setClean_Gamma.append(split)\n",
    "                else:\n",
    "                    pass\n",
    "            V.remove(v)\n",
    "        unique_setClean_Gamma = []\n",
    "\n",
    "        for region in setClean_Gamma:\n",
    "            if region not in unique_setClean_Gamma:\n",
    "                unique_setClean_Gamma.append(region)\n",
    "        print(unique_setClean_Gamma)\n",
    "        return unique_setClean_Gamma\n",
    "    #-- alg 6 end --#  \n",
    "    \n",
    "    def returnvertices(self):\n",
    "        return self.vertices\n",
    "\n",
    "    def returnprecubicalset(self):\n",
    "        return self.PrecubicalSet\n",
    "\n",
    "    def returngraph(self):\n",
    "        return self.pointers\n",
    "\n",
    "    def returnGR(self):\n",
    "        return self.SetInR        "
   ]
  },
  {
   "cell_type": "markdown",
   "id": "88f68b7a-7c0c-464e-b408-26764e14f577",
   "metadata": {},
   "source": [
    "The input for this class is a precubical set **[Pn(dictionary),Pn-1(dictionary),...,P3(dictionary),P2(dictionary),P1(graph with labels),P0(list of vertices)]** and outputs **[n-topological cubes,(n-1)-topological cubes,...,1-topological cubes]**.\n",
    "To make it as simple as possible class \"SGraph_FP\" comes with a method \"GE_info()\" that outputs the input for this new class that implements algorithm 5."
   ]
  },
  {
   "cell_type": "code",
   "execution_count": 14,
   "id": "0b793b95-6823-42f2-8851-ff381541d865",
   "metadata": {},
   "outputs": [],
   "source": [
    "%%capture\n",
    "G2=SGraph_FP([['Pa','Pb','Vb','Va'],['Pb','Pa','Va','Vb']])\n",
    "GR=GeometricRealization(G2.GE_info())\n",
    "GR.geometricrealization()"
   ]
  },
  {
   "cell_type": "markdown",
   "id": "d8375bd2-6b8b-44c7-8ea2-910b08932b34",
   "metadata": {},
   "source": [
    "This method converts the elements of $[v_1,\\dots,v_n]:[w_1,\\dots,w_n]=x\\in\\square(G_p)_i$ to $[v_1,w_1]\\times \\dots \\times [v_1,w_2]$ as a list $[[v_1,w_1],\\dots,[v_n,w_n]]$."
   ]
  },
  {
   "cell_type": "code",
   "execution_count": 15,
   "id": "2a3962b7-0a53-4c01-b003-1daee9f3b622",
   "metadata": {},
   "outputs": [
    {
     "data": {
      "text/plain": [
       "[[[[0, 1], [0, 1]], [[0, 1], [3, 4]], [[3, 4], [0, 1]], [[3, 4], [3, 4]]],\n",
       " [[[0, 0], [1, 2]],\n",
       "  [[0, 0], [2, 3]],\n",
       "  [[1, 2], [0, 0]],\n",
       "  [[1, 2], [4, 4]],\n",
       "  [[2, 3], [0, 0]],\n",
       "  [[2, 3], [4, 4]],\n",
       "  [[4, 4], [1, 2]],\n",
       "  [[4, 4], [2, 3]]]]"
      ]
     },
     "execution_count": 15,
     "metadata": {},
     "output_type": "execute_result"
    }
   ],
   "source": [
    "GR.returnGR()"
   ]
  },
  {
   "cell_type": "markdown",
   "id": "0a35f2ad-c2ea-41df-86e0-970adcee2a9a",
   "metadata": {},
   "source": [
    "One easily sees that the algorithm 6 also follows very closely the theory."
   ]
  },
  {
   "cell_type": "code",
   "execution_count": 16,
   "id": "0ab214e0-5acf-4d4b-a826-a3edb90b4976",
   "metadata": {},
   "outputs": [
    {
     "data": {
      "text/plain": [
       "[[1, 2], [2, 1], [2, 2], [2, 3], [3, 2]]"
      ]
     },
     "execution_count": 16,
     "metadata": {},
     "output_type": "execute_result"
    }
   ],
   "source": [
    "barV=copy.deepcopy(G.returnFvertices())\n",
    "barV"
   ]
  },
  {
   "cell_type": "code",
   "execution_count": 17,
   "id": "49638f61-fb71-4a86-8188-2f629a17be2b",
   "metadata": {},
   "outputs": [
    {
     "name": "stdout",
     "output_type": "stream",
     "text": [
      "[[[0, 0], [0, 4]], [[2, 0], [4, 0]], [[0, 0], [1, 1]], [[3, 0], [4, 1]], [[0, 0], [4, 0]], [[0, 3], [1, 4]], [[3, 3], [4, 4]], [[0, 4], [4, 4]], [[2, 4], [4, 4]], [[4, 0], [4, 4]], [[4, 2], [4, 4]]]\n"
     ]
    }
   ],
   "source": [
    "PrunnedSpace=GR.alg6(barV)"
   ]
  },
  {
   "cell_type": "code",
   "execution_count": 18,
   "id": "c29a8f6c-bca2-480a-b5c7-f760b697dbd3",
   "metadata": {},
   "outputs": [
    {
     "data": {
      "image/png": "[encoded data removed]",
      "text/plain": [
       "<Figure size 640x480 with 1 Axes>"
      ]
     },
     "metadata": {},
     "output_type": "display_data"
    },
    {
     "data": {
      "image/png": "[encoded data removed]",
      "text/plain": [
       "<Figure size 640x480 with 1 Axes>"
      ]
     },
     "metadata": {},
     "output_type": "display_data"
    },
    {
     "data": {
      "image/png": "[encoded data removed]",
      "text/plain": [
       "<Figure size 640x480 with 1 Axes>"
      ]
     },
     "metadata": {},
     "output_type": "display_data"
    },
    {
     "data": {
      "image/png": "[encoded data removed]",
      "text/plain": [
       "<Figure size 640x480 with 1 Axes>"
      ]
     },
     "metadata": {},
     "output_type": "display_data"
    },
    {
     "data": {
      "image/png": "[encoded data removed]",
      "text/plain": [
       "<Figure size 640x480 with 1 Axes>"
      ]
     },
     "metadata": {},
     "output_type": "display_data"
    }
   ],
   "source": [
    "import plotgamma\n",
    "li=GR.returnvertices()[-1]\n",
    "plotgamma.overlap(li,PrunnedSpace)"
   ]
  },
  {
   "cell_type": "markdown",
   "id": "fd647950-9e30-46ef-add4-2e8c20b2bd2d",
   "metadata": {},
   "source": [
    "#### $\\chi^{-1}(|\\square(D\\check{G}_p)|)$"
   ]
  },
  {
   "cell_type": "code",
   "execution_count": 19,
   "id": "04eb8b45-1abb-46ab-9159-1fbabb489b25",
   "metadata": {},
   "outputs": [
    {
     "name": "stdout",
     "output_type": "stream",
     "text": [
      "[[[0, 0], [0, 4]], [[0, 0], [4, 0]], [[0, 2], [0, 4]], [[2, 0], [4, 0]], [[0, 3], [1, 4]], [[3, 3], [4, 4]], [[0, 4], [4, 4]], [[2, 4], [4, 4]], [[4, 0], [4, 4]], [[3, 0], [4, 1]], [[4, 2], [4, 4]]]\n"
     ]
    },
    {
     "data": {
      "image/png": "[encoded data removed]",
      "text/plain": [
       "<Figure size 640x480 with 1 Axes>"
      ]
     },
     "metadata": {},
     "output_type": "display_data"
    },
    {
     "data": {
      "image/png": "[encoded data removed]",
      "text/plain": [
       "<Figure size 640x480 with 1 Axes>"
      ]
     },
     "metadata": {},
     "output_type": "display_data"
    },
    {
     "data": {
      "image/png": "[encoded data removed]",
      "text/plain": [
       "<Figure size 640x480 with 1 Axes>"
      ]
     },
     "metadata": {},
     "output_type": "display_data"
    },
    {
     "data": {
      "image/png": "[encoded data removed]",
      "text/plain": [
       "<Figure size 640x480 with 1 Axes>"
      ]
     },
     "metadata": {},
     "output_type": "display_data"
    }
   ],
   "source": [
    "DbarV=copy.deepcopy(G.returnDFvertices())\n",
    "PrunnedSpaceDG=GR.alg6(DbarV)\n",
    "plotgamma.overlap(li,PrunnedSpaceDG)"
   ]
  },
  {
   "cell_type": "markdown",
   "id": "fdb33c8d-370d-4a78-b165-1d910bab8a43",
   "metadata": {},
   "source": [
    "#### $\\chi^{-1}(|\\square(U\\check{G}_p)|)$"
   ]
  },
  {
   "cell_type": "code",
   "execution_count": 20,
   "id": "f79c2449-f281-4ae2-96f2-da9865627df6",
   "metadata": {},
   "outputs": [
    {
     "name": "stdout",
     "output_type": "stream",
     "text": [
      "[[[4, 0], [4, 4]], [[0, 4], [4, 4]], [[0, 0], [0, 4]], [[0, 0], [0, 2]], [[2, 0], [2, 0]], [[0, 0], [1, 1]], [[0, 0], [2, 0]], [[2, 0], [4, 0]], [[3, 0], [4, 1]], [[0, 0], [4, 0]], [[0, 3], [1, 4]], [[0, 4], [2, 4]], [[2, 4], [2, 4]], [[4, 0], [4, 2]], [[4, 2], [4, 2]]]\n"
     ]
    },
    {
     "data": {
      "image/png": "[encoded data removed]",
      "text/plain": [
       "<Figure size 640x480 with 1 Axes>"
      ]
     },
     "metadata": {},
     "output_type": "display_data"
    },
    {
     "data": {
      "image/png": "[encoded data removed]",
      "text/plain": [
       "<Figure size 640x480 with 1 Axes>"
      ]
     },
     "metadata": {},
     "output_type": "display_data"
    },
    {
     "data": {
      "image/png": "[encoded data removed]",
      "text/plain": [
       "<Figure size 640x480 with 1 Axes>"
      ]
     },
     "metadata": {},
     "output_type": "display_data"
    },
    {
     "data": {
      "image/png": "[encoded data removed]",
      "text/plain": [
       "<Figure size 640x480 with 1 Axes>"
      ]
     },
     "metadata": {},
     "output_type": "display_data"
    }
   ],
   "source": [
    "UbarV=copy.deepcopy(G.returnUFvertices())\n",
    "PrunnedSpaceUG=GR.alg6(UbarV)\n",
    "plotgamma.overlap(li,PrunnedSpaceUG)"
   ]
  }
 ],
 "metadata": {
  "kernelspec": {
   "display_name": "Python 3 (ipykernel)",
   "language": "python",
   "name": "python3"
  },
  "language_info": {
   "codemirror_mode": {
    "name": "ipython",
    "version": 3
   },
   "file_extension": ".py",
   "mimetype": "text/x-python",
   "name": "python",
   "nbconvert_exporter": "python",
   "pygments_lexer": "ipython3",
   "version": "3.9.13"
  }
 },
 "nbformat": 4,
 "nbformat_minor": 5
}
